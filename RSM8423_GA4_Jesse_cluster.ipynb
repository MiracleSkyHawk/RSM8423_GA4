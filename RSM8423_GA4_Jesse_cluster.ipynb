{
 "cells": [
  {
   "cell_type": "markdown",
   "id": "d61af7fe",
   "metadata": {},
   "source": [
    "# Import Packages"
   ]
  },
  {
   "cell_type": "code",
   "execution_count": 1,
   "id": "5e6bafd7",
   "metadata": {},
   "outputs": [],
   "source": [
    "import pandas as pd\n",
    "import matplotlib.pyplot as plt\n",
    "import numpy as np\n",
    "import pulp\n",
    "from pulp import *\n",
    "import seaborn as sns\n",
    "\n",
    "from sklearn.cluster import KMeans\n",
    "from sklearn.preprocessing import StandardScaler\n",
    "from scipy import stats"
   ]
  },
  {
   "cell_type": "markdown",
   "id": "ecf5b0f1",
   "metadata": {},
   "source": [
    "# Part I"
   ]
  },
  {
   "cell_type": "markdown",
   "id": "e6d1c48f",
   "metadata": {},
   "source": [
    "## Load Data"
   ]
  },
  {
   "cell_type": "code",
   "execution_count": 2,
   "id": "4973da02",
   "metadata": {},
   "outputs": [
    {
     "data": {
      "text/html": [
       "<div>\n",
       "<style scoped>\n",
       "    .dataframe tbody tr th:only-of-type {\n",
       "        vertical-align: middle;\n",
       "    }\n",
       "\n",
       "    .dataframe tbody tr th {\n",
       "        vertical-align: top;\n",
       "    }\n",
       "\n",
       "    .dataframe thead th {\n",
       "        text-align: right;\n",
       "    }\n",
       "</style>\n",
       "<table border=\"1\" class=\"dataframe\">\n",
       "  <thead>\n",
       "    <tr style=\"text-align: right;\">\n",
       "      <th></th>\n",
       "      <th>Age</th>\n",
       "      <th>Previous App Purchases</th>\n",
       "      <th>Price</th>\n",
       "    </tr>\n",
       "  </thead>\n",
       "  <tbody>\n",
       "    <tr>\n",
       "      <th>count</th>\n",
       "      <td>10000.000000</td>\n",
       "      <td>10000.000000</td>\n",
       "      <td>10000.000000</td>\n",
       "    </tr>\n",
       "    <tr>\n",
       "      <th>mean</th>\n",
       "      <td>36.588400</td>\n",
       "      <td>187.724300</td>\n",
       "      <td>1.811900</td>\n",
       "    </tr>\n",
       "    <tr>\n",
       "      <th>std</th>\n",
       "      <td>15.647053</td>\n",
       "      <td>81.677551</td>\n",
       "      <td>3.200069</td>\n",
       "    </tr>\n",
       "    <tr>\n",
       "      <th>min</th>\n",
       "      <td>11.000000</td>\n",
       "      <td>0.000000</td>\n",
       "      <td>0.000000</td>\n",
       "    </tr>\n",
       "    <tr>\n",
       "      <th>25%</th>\n",
       "      <td>27.000000</td>\n",
       "      <td>121.000000</td>\n",
       "      <td>0.000000</td>\n",
       "    </tr>\n",
       "    <tr>\n",
       "      <th>50%</th>\n",
       "      <td>32.000000</td>\n",
       "      <td>226.000000</td>\n",
       "      <td>0.000000</td>\n",
       "    </tr>\n",
       "    <tr>\n",
       "      <th>75%</th>\n",
       "      <td>39.000000</td>\n",
       "      <td>246.000000</td>\n",
       "      <td>2.500000</td>\n",
       "    </tr>\n",
       "    <tr>\n",
       "      <th>max</th>\n",
       "      <td>75.000000</td>\n",
       "      <td>312.000000</td>\n",
       "      <td>12.000000</td>\n",
       "    </tr>\n",
       "  </tbody>\n",
       "</table>\n",
       "</div>"
      ],
      "text/plain": [
       "                Age  Previous App Purchases         Price\n",
       "count  10000.000000            10000.000000  10000.000000\n",
       "mean      36.588400              187.724300      1.811900\n",
       "std       15.647053               81.677551      3.200069\n",
       "min       11.000000                0.000000      0.000000\n",
       "25%       27.000000              121.000000      0.000000\n",
       "50%       32.000000              226.000000      0.000000\n",
       "75%       39.000000              246.000000      2.500000\n",
       "max       75.000000              312.000000     12.000000"
      ]
     },
     "execution_count": 2,
     "metadata": {},
     "output_type": "execute_result"
    }
   ],
   "source": [
    "# Import Data \n",
    "df = pd.read_csv('player_sample.csv')\n",
    "df['Price'] = df['Price'].fillna(0)\n",
    "df.describe()"
   ]
  },
  {
   "cell_type": "code",
   "execution_count": 3,
   "id": "1a33228c",
   "metadata": {},
   "outputs": [
    {
     "data": {
      "image/png": "[encoded data removed]",
      "text/plain": [
       "<Figure size 432x288 with 1 Axes>"
      ]
     },
     "metadata": {
      "needs_background": "light"
     },
     "output_type": "display_data"
    },
    {
     "data": {
      "image/png": "[encoded data removed]",
      "text/plain": [
       "<Figure size 432x288 with 1 Axes>"
      ]
     },
     "metadata": {
      "needs_background": "light"
     },
     "output_type": "display_data"
    },
    {
     "data": {
      "image/png": "[encoded data removed]",
      "text/plain": [
       "<Figure size 432x288 with 1 Axes>"
      ]
     },
     "metadata": {
      "needs_background": "light"
     },
     "output_type": "display_data"
    }
   ],
   "source": [
    "# Plot Distributions\n",
    "for col in df.columns:\n",
    "    plt.hist(df[col], bins=10)\n",
    "    plt.title(col)\n",
    "    plt.show()"
   ]
  },
  {
   "cell_type": "markdown",
   "id": "3fe9f529",
   "metadata": {},
   "source": [
    "## Question 1"
   ]
  },
  {
   "cell_type": "code",
   "execution_count": 4,
   "id": "9c28f5da",
   "metadata": {},
   "outputs": [
    {
     "data": {
      "text/html": [
       "<div>\n",
       "<style scoped>\n",
       "    .dataframe tbody tr th:only-of-type {\n",
       "        vertical-align: middle;\n",
       "    }\n",
       "\n",
       "    .dataframe tbody tr th {\n",
       "        vertical-align: top;\n",
       "    }\n",
       "\n",
       "    .dataframe thead th {\n",
       "        text-align: right;\n",
       "    }\n",
       "</style>\n",
       "<table border=\"1\" class=\"dataframe\">\n",
       "  <thead>\n",
       "    <tr style=\"text-align: right;\">\n",
       "      <th></th>\n",
       "      <th>Price</th>\n",
       "      <th>Demand</th>\n",
       "    </tr>\n",
       "  </thead>\n",
       "  <tbody>\n",
       "    <tr>\n",
       "      <th>0</th>\n",
       "      <td>12.0</td>\n",
       "      <td>368</td>\n",
       "    </tr>\n",
       "    <tr>\n",
       "      <th>1</th>\n",
       "      <td>11.0</td>\n",
       "      <td>11</td>\n",
       "    </tr>\n",
       "    <tr>\n",
       "      <th>2</th>\n",
       "      <td>10.0</td>\n",
       "      <td>21</td>\n",
       "    </tr>\n",
       "    <tr>\n",
       "      <th>3</th>\n",
       "      <td>9.0</td>\n",
       "      <td>30</td>\n",
       "    </tr>\n",
       "    <tr>\n",
       "      <th>4</th>\n",
       "      <td>8.0</td>\n",
       "      <td>34</td>\n",
       "    </tr>\n",
       "    <tr>\n",
       "      <th>5</th>\n",
       "      <td>7.0</td>\n",
       "      <td>479</td>\n",
       "    </tr>\n",
       "    <tr>\n",
       "      <th>6</th>\n",
       "      <td>6.0</td>\n",
       "      <td>1173</td>\n",
       "    </tr>\n",
       "    <tr>\n",
       "      <th>7</th>\n",
       "      <td>5.0</td>\n",
       "      <td>185</td>\n",
       "    </tr>\n",
       "    <tr>\n",
       "      <th>8</th>\n",
       "      <td>4.0</td>\n",
       "      <td>59</td>\n",
       "    </tr>\n",
       "    <tr>\n",
       "      <th>9</th>\n",
       "      <td>3.0</td>\n",
       "      <td>72</td>\n",
       "    </tr>\n",
       "    <tr>\n",
       "      <th>10</th>\n",
       "      <td>2.5</td>\n",
       "      <td>124</td>\n",
       "    </tr>\n",
       "    <tr>\n",
       "      <th>11</th>\n",
       "      <td>2.0</td>\n",
       "      <td>376</td>\n",
       "    </tr>\n",
       "    <tr>\n",
       "      <th>12</th>\n",
       "      <td>0.0</td>\n",
       "      <td>7068</td>\n",
       "    </tr>\n",
       "  </tbody>\n",
       "</table>\n",
       "</div>"
      ],
      "text/plain": [
       "    Price  Demand\n",
       "0    12.0     368\n",
       "1    11.0      11\n",
       "2    10.0      21\n",
       "3     9.0      30\n",
       "4     8.0      34\n",
       "5     7.0     479\n",
       "6     6.0    1173\n",
       "7     5.0     185\n",
       "8     4.0      59\n",
       "9     3.0      72\n",
       "10    2.5     124\n",
       "11    2.0     376\n",
       "12    0.0    7068"
      ]
     },
     "execution_count": 4,
     "metadata": {},
     "output_type": "execute_result"
    }
   ],
   "source": [
    "# Get the count of each price\n",
    "demand_df = pd.DataFrame(df['Price'].value_counts())\n",
    "demand_df = demand_df.reset_index()\n",
    "demand_df.columns = ['Price', 'Demand']\n",
    "\n",
    "# Sort the prices, needed for next step\n",
    "demand_df = demand_df.sort_values('Price', ascending = False)\n",
    "demand_df = demand_df.reset_index()\n",
    "demand_df = demand_df.drop('index', axis = 1)\n",
    "\n",
    "# Display Table \n",
    "demand_df"
   ]
  },
  {
   "cell_type": "code",
   "execution_count": 5,
   "id": "8d7dedd5",
   "metadata": {},
   "outputs": [],
   "source": [
    "# Case Vars\n",
    "num_people = 2000000\n",
    "sample_size = 10000\n",
    "\n",
    "# Calc probability and cumulative sum\n",
    "demand_df['Probability'] = demand_df['Demand'] / sum(demand_df['Demand'])\n",
    "demand_df['CumulativeSum'] = demand_df['Probability'].cumsum()"
   ]
  },
  {
   "cell_type": "code",
   "execution_count": 6,
   "id": "24f7d113",
   "metadata": {},
   "outputs": [],
   "source": [
    "# Cumulative demand and its associated revenue \n",
    "demand_df['CumulativeDemand'] = num_people * demand_df['CumulativeSum']\n",
    "demand_df['CumulativeRevenue'] = demand_df['Price'] * demand_df['CumulativeDemand']"
   ]
  },
  {
   "cell_type": "code",
   "execution_count": 7,
   "id": "fd1780b7",
   "metadata": {},
   "outputs": [
    {
     "data": {
      "text/html": [
       "<div>\n",
       "<style scoped>\n",
       "    .dataframe tbody tr th:only-of-type {\n",
       "        vertical-align: middle;\n",
       "    }\n",
       "\n",
       "    .dataframe tbody tr th {\n",
       "        vertical-align: top;\n",
       "    }\n",
       "\n",
       "    .dataframe thead th {\n",
       "        text-align: right;\n",
       "    }\n",
       "</style>\n",
       "<table border=\"1\" class=\"dataframe\">\n",
       "  <thead>\n",
       "    <tr style=\"text-align: right;\">\n",
       "      <th></th>\n",
       "      <th>Price</th>\n",
       "      <th>Demand</th>\n",
       "      <th>Probability</th>\n",
       "      <th>CumulativeSum</th>\n",
       "      <th>CumulativeDemand</th>\n",
       "      <th>CumulativeRevenue</th>\n",
       "    </tr>\n",
       "  </thead>\n",
       "  <tbody>\n",
       "    <tr>\n",
       "      <th>0</th>\n",
       "      <td>12.0</td>\n",
       "      <td>368</td>\n",
       "      <td>0.0368</td>\n",
       "      <td>0.0368</td>\n",
       "      <td>73600.0</td>\n",
       "      <td>883200.0</td>\n",
       "    </tr>\n",
       "    <tr>\n",
       "      <th>1</th>\n",
       "      <td>11.0</td>\n",
       "      <td>11</td>\n",
       "      <td>0.0011</td>\n",
       "      <td>0.0379</td>\n",
       "      <td>75800.0</td>\n",
       "      <td>833800.0</td>\n",
       "    </tr>\n",
       "    <tr>\n",
       "      <th>2</th>\n",
       "      <td>10.0</td>\n",
       "      <td>21</td>\n",
       "      <td>0.0021</td>\n",
       "      <td>0.0400</td>\n",
       "      <td>80000.0</td>\n",
       "      <td>800000.0</td>\n",
       "    </tr>\n",
       "    <tr>\n",
       "      <th>3</th>\n",
       "      <td>9.0</td>\n",
       "      <td>30</td>\n",
       "      <td>0.0030</td>\n",
       "      <td>0.0430</td>\n",
       "      <td>86000.0</td>\n",
       "      <td>774000.0</td>\n",
       "    </tr>\n",
       "    <tr>\n",
       "      <th>4</th>\n",
       "      <td>8.0</td>\n",
       "      <td>34</td>\n",
       "      <td>0.0034</td>\n",
       "      <td>0.0464</td>\n",
       "      <td>92800.0</td>\n",
       "      <td>742400.0</td>\n",
       "    </tr>\n",
       "    <tr>\n",
       "      <th>5</th>\n",
       "      <td>7.0</td>\n",
       "      <td>479</td>\n",
       "      <td>0.0479</td>\n",
       "      <td>0.0943</td>\n",
       "      <td>188600.0</td>\n",
       "      <td>1320200.0</td>\n",
       "    </tr>\n",
       "    <tr>\n",
       "      <th>6</th>\n",
       "      <td>6.0</td>\n",
       "      <td>1173</td>\n",
       "      <td>0.1173</td>\n",
       "      <td>0.2116</td>\n",
       "      <td>423200.0</td>\n",
       "      <td>2539200.0</td>\n",
       "    </tr>\n",
       "    <tr>\n",
       "      <th>7</th>\n",
       "      <td>5.0</td>\n",
       "      <td>185</td>\n",
       "      <td>0.0185</td>\n",
       "      <td>0.2301</td>\n",
       "      <td>460200.0</td>\n",
       "      <td>2301000.0</td>\n",
       "    </tr>\n",
       "    <tr>\n",
       "      <th>8</th>\n",
       "      <td>4.0</td>\n",
       "      <td>59</td>\n",
       "      <td>0.0059</td>\n",
       "      <td>0.2360</td>\n",
       "      <td>472000.0</td>\n",
       "      <td>1888000.0</td>\n",
       "    </tr>\n",
       "    <tr>\n",
       "      <th>9</th>\n",
       "      <td>3.0</td>\n",
       "      <td>72</td>\n",
       "      <td>0.0072</td>\n",
       "      <td>0.2432</td>\n",
       "      <td>486400.0</td>\n",
       "      <td>1459200.0</td>\n",
       "    </tr>\n",
       "    <tr>\n",
       "      <th>10</th>\n",
       "      <td>2.5</td>\n",
       "      <td>124</td>\n",
       "      <td>0.0124</td>\n",
       "      <td>0.2556</td>\n",
       "      <td>511200.0</td>\n",
       "      <td>1278000.0</td>\n",
       "    </tr>\n",
       "    <tr>\n",
       "      <th>11</th>\n",
       "      <td>2.0</td>\n",
       "      <td>376</td>\n",
       "      <td>0.0376</td>\n",
       "      <td>0.2932</td>\n",
       "      <td>586400.0</td>\n",
       "      <td>1172800.0</td>\n",
       "    </tr>\n",
       "    <tr>\n",
       "      <th>12</th>\n",
       "      <td>0.0</td>\n",
       "      <td>7068</td>\n",
       "      <td>0.7068</td>\n",
       "      <td>1.0000</td>\n",
       "      <td>2000000.0</td>\n",
       "      <td>0.0</td>\n",
       "    </tr>\n",
       "  </tbody>\n",
       "</table>\n",
       "</div>"
      ],
      "text/plain": [
       "    Price  Demand  Probability  CumulativeSum  CumulativeDemand  \\\n",
       "0    12.0     368       0.0368         0.0368           73600.0   \n",
       "1    11.0      11       0.0011         0.0379           75800.0   \n",
       "2    10.0      21       0.0021         0.0400           80000.0   \n",
       "3     9.0      30       0.0030         0.0430           86000.0   \n",
       "4     8.0      34       0.0034         0.0464           92800.0   \n",
       "5     7.0     479       0.0479         0.0943          188600.0   \n",
       "6     6.0    1173       0.1173         0.2116          423200.0   \n",
       "7     5.0     185       0.0185         0.2301          460200.0   \n",
       "8     4.0      59       0.0059         0.2360          472000.0   \n",
       "9     3.0      72       0.0072         0.2432          486400.0   \n",
       "10    2.5     124       0.0124         0.2556          511200.0   \n",
       "11    2.0     376       0.0376         0.2932          586400.0   \n",
       "12    0.0    7068       0.7068         1.0000         2000000.0   \n",
       "\n",
       "    CumulativeRevenue  \n",
       "0            883200.0  \n",
       "1            833800.0  \n",
       "2            800000.0  \n",
       "3            774000.0  \n",
       "4            742400.0  \n",
       "5           1320200.0  \n",
       "6           2539200.0  \n",
       "7           2301000.0  \n",
       "8           1888000.0  \n",
       "9           1459200.0  \n",
       "10          1278000.0  \n",
       "11          1172800.0  \n",
       "12                0.0  "
      ]
     },
     "execution_count": 7,
     "metadata": {},
     "output_type": "execute_result"
    }
   ],
   "source": [
    "demand_df"
   ]
  },
  {
   "cell_type": "code",
   "execution_count": 8,
   "id": "f79c0904",
   "metadata": {},
   "outputs": [
    {
     "data": {
      "text/html": [
       "<div>\n",
       "<style scoped>\n",
       "    .dataframe tbody tr th:only-of-type {\n",
       "        vertical-align: middle;\n",
       "    }\n",
       "\n",
       "    .dataframe tbody tr th {\n",
       "        vertical-align: top;\n",
       "    }\n",
       "\n",
       "    .dataframe thead th {\n",
       "        text-align: right;\n",
       "    }\n",
       "</style>\n",
       "<table border=\"1\" class=\"dataframe\">\n",
       "  <thead>\n",
       "    <tr style=\"text-align: right;\">\n",
       "      <th></th>\n",
       "      <th>Price</th>\n",
       "      <th>Demand</th>\n",
       "      <th>Probability</th>\n",
       "      <th>CumulativeSum</th>\n",
       "      <th>CumulativeDemand</th>\n",
       "      <th>CumulativeRevenue</th>\n",
       "    </tr>\n",
       "  </thead>\n",
       "  <tbody>\n",
       "    <tr>\n",
       "      <th>6</th>\n",
       "      <td>6.0</td>\n",
       "      <td>1173</td>\n",
       "      <td>0.1173</td>\n",
       "      <td>0.2116</td>\n",
       "      <td>423200.0</td>\n",
       "      <td>2539200.0</td>\n",
       "    </tr>\n",
       "  </tbody>\n",
       "</table>\n",
       "</div>"
      ],
      "text/plain": [
       "   Price  Demand  Probability  CumulativeSum  CumulativeDemand  \\\n",
       "6    6.0    1173       0.1173         0.2116          423200.0   \n",
       "\n",
       "   CumulativeRevenue  \n",
       "6          2539200.0  "
      ]
     },
     "execution_count": 8,
     "metadata": {},
     "output_type": "execute_result"
    }
   ],
   "source": [
    "# Find the optimal price\n",
    "bestPrice_df = demand_df.loc[demand_df['CumulativeRevenue'] == demand_df['CumulativeRevenue'].max()]\n",
    "bestPrice_df"
   ]
  },
  {
   "cell_type": "code",
   "execution_count": 9,
   "id": "e2f26d1f",
   "metadata": {},
   "outputs": [
    {
     "data": {
      "text/plain": [
       "<AxesSubplot:title={'center':'Demand vs Revenue'}, xlabel='Price'>"
      ]
     },
     "execution_count": 9,
     "metadata": {},
     "output_type": "execute_result"
    },
    {
     "data": {
      "image/png": "[encoded data removed]",
      "text/plain": [
       "<Figure size 432x288 with 1 Axes>"
      ]
     },
     "metadata": {
      "needs_background": "light"
     },
     "output_type": "display_data"
    }
   ],
   "source": [
    "# Plot\n",
    "demand_df.plot.bar(x = 'Price', y = ['CumulativeDemand', 'CumulativeRevenue'], title = 'Demand vs Revenue')"
   ]
  },
  {
   "cell_type": "code",
   "execution_count": 10,
   "id": "63e52fcc",
   "metadata": {},
   "outputs": [
    {
     "data": {
      "image/png": "[encoded data removed]",
      "text/plain": [
       "<Figure size 432x288 with 1 Axes>"
      ]
     },
     "metadata": {
      "needs_background": "light"
     },
     "output_type": "display_data"
    },
    {
     "data": {
      "image/png": "[encoded data removed]",
      "text/plain": [
       "<Figure size 432x288 with 1 Axes>"
      ]
     },
     "metadata": {
      "needs_background": "light"
     },
     "output_type": "display_data"
    }
   ],
   "source": [
    "temp = ['CumulativeDemand', 'CumulativeRevenue']\n",
    "for i in temp: \n",
    "    demand_df.plot(x = 'Price', y = i, kind = 'line', marker = 'x')\n",
    "    plt.ylim(ymin = 0)\n",
    "    plt.title(i)\n",
    "    plt.ticklabel_format(style = 'plain', axis = 'y')\n",
    "    plt.show()"
   ]
  },
  {
   "cell_type": "markdown",
   "id": "0bb658f0",
   "metadata": {},
   "source": [
    "## Question 2"
   ]
  },
  {
   "cell_type": "code",
   "execution_count": 11,
   "id": "79573336",
   "metadata": {},
   "outputs": [
    {
     "data": {
      "text/plain": [
       "Text(0, 0.5, 'In App Spending')"
      ]
     },
     "execution_count": 11,
     "metadata": {},
     "output_type": "execute_result"
    },
    {
     "data": {
      "image/png": "[encoded data removed]",
      "text/plain": [
       "<Figure size 432x288 with 1 Axes>"
      ]
     },
     "metadata": {
      "needs_background": "light"
     },
     "output_type": "display_data"
    }
   ],
   "source": [
    "# Graph age vs in app spending\n",
    "plt.scatter(x = df['Age'], y = df['Previous App Purchases'])\n",
    "plt.title('Age vs In App Purchase')\n",
    "plt.xlabel('Age')\n",
    "plt.ylabel('In App Spending')"
   ]
  },
  {
   "cell_type": "code",
   "execution_count": 12,
   "id": "b241c22f",
   "metadata": {},
   "outputs": [],
   "source": [
    "# Create new df\n",
    "cluster_df = df.copy()\n",
    "cluster_df.dropna(inplace = True)\n",
    "\n",
    "# Create 3 clusters, confirmed visually\n",
    "kmeans = KMeans(n_clusters = 3, random_state = 1)\n",
    "kmeans.fit(cluster_df)\n",
    "\n",
    "# Get labels and centroids\n",
    "cluster_centers = kmeans.cluster_centers_\n",
    "labels = kmeans.labels_\n",
    "\n",
    "# Add labels to the df\n",
    "cluster_df['Cluster'] = labels"
   ]
  },
  {
   "cell_type": "code",
   "execution_count": 13,
   "id": "6cc385e7",
   "metadata": {
    "scrolled": false
   },
   "outputs": [
    {
     "data": {
      "text/plain": [
       "Text(0, 0.5, 'In App Spending')"
      ]
     },
     "execution_count": 13,
     "metadata": {},
     "output_type": "execute_result"
    },
    {
     "data": {
      "image/png": "[encoded data removed]",
      "text/plain": [
       "<Figure size 432x288 with 1 Axes>"
      ]
     },
     "metadata": {
      "needs_background": "light"
     },
     "output_type": "display_data"
    }
   ],
   "source": [
    "# Plot the clusters and the centroid (red)\n",
    "plt.scatter(cluster_df['Age'], cluster_df['Previous App Purchases'], c = cluster_df['Cluster'])\n",
    "plt.scatter(cluster_centers[:, 0], cluster_centers[:, 1], color = 'r', s = 5)\n",
    "\n",
    "# Formatting graph\n",
    "plt.title('Cluster (n=3) Age vs In App Purchase')\n",
    "plt.xlabel('Age')\n",
    "plt.ylabel('In App Spending')"
   ]
  },
  {
   "cell_type": "code",
   "execution_count": 14,
   "id": "7c6f30d1",
   "metadata": {},
   "outputs": [
    {
     "name": "stdout",
     "output_type": "stream",
     "text": [
      "Cluster: 0 has a revenue of $2011200.0 at Price: $6.0\n",
      "Cluster: 1 has a revenue of $240000.0 at Price: $2.0\n",
      "Cluster: 2 has a revenue of $883200.0 at Price: $12.0\n",
      "Sum of revenues: 3134400.0\n"
     ]
    }
   ],
   "source": [
    "# Define dict for storing results\n",
    "cluster_revenues = {}\n",
    "\n",
    "# Loop through the three clusters and find the max venue price for each\n",
    "def cluster_revenue(cluster_df):\n",
    "    revenue = 0\n",
    "    for i in range(3):\n",
    "        # Make temp df with matching cluster numbers\n",
    "        temp_df = pd.DataFrame(cluster_df.loc[cluster_df['Cluster'] == i])\n",
    "        \n",
    "        # Get the count of each price\n",
    "        temp_df = pd.DataFrame(temp_df['Price'].value_counts())\n",
    "        temp_df = temp_df.reset_index()\n",
    "        temp_df.columns = ['Price', 'Demand']\n",
    "\n",
    "        # Sort the prices, needed for next step\n",
    "        temp_df = temp_df.sort_values('Price', ascending = False)\n",
    "        temp_df = temp_df.reset_index()\n",
    "        temp_df = temp_df.drop('index', axis=1)\n",
    "\n",
    "        # Calc probability and cumulative sum\n",
    "        temp_df['Probability'] = temp_df['Demand'] / len(cluster_df.loc[cluster_df['Cluster'] == i])\n",
    "        temp_df['CumulativeSum'] = temp_df['Probability'].cumsum()\n",
    "\n",
    "        # Cumulative demand and its associated revenue \n",
    "        temp_df['CumulativeDemand'] =  temp_df['CumulativeSum'] * (len(cluster_df.loc[cluster_df['Cluster'] == i]) / sample_size) \n",
    "        temp_df['CumulativeRevenue'] = temp_df['Price'] * num_people * temp_df['CumulativeDemand']\n",
    "        \n",
    "        # Get highest revenue and add it to total\n",
    "        highest_revenue = temp_df['CumulativeRevenue'].max()\n",
    "        price = temp_df.loc[temp_df['CumulativeRevenue'] == highest_revenue]['Price'].values[0]\n",
    "        revenue += highest_revenue\n",
    "        \n",
    "        # Print and add to dictionary\n",
    "        print(f'Cluster: {i} has a revenue of ${highest_revenue} at Price: ${price}')\n",
    "        \n",
    "        cluster_revenues[i] = [price, highest_revenue]\n",
    "        \n",
    "    return revenue\n",
    "\n",
    "# Call function and print results\n",
    "revenue = cluster_revenue(cluster_df)\n",
    "print(f'Sum of revenues: {revenue}')\n"
   ]
  },
  {
   "cell_type": "code",
   "execution_count": 15,
   "id": "4d3cb3b4",
   "metadata": {},
   "outputs": [
    {
     "data": {
      "text/plain": [
       "{0: [6.0, 2011200.0], 1: [2.0, 240000.0], 2: [12.0, 883200.0]}"
      ]
     },
     "execution_count": 15,
     "metadata": {},
     "output_type": "execute_result"
    }
   ],
   "source": [
    "cluster_revenues"
   ]
  },
  {
   "cell_type": "code",
   "execution_count": 17,
   "id": "7f489b4a",
   "metadata": {},
   "outputs": [
    {
     "data": {
      "text/html": [
       "<div>\n",
       "<style scoped>\n",
       "    .dataframe tbody tr th:only-of-type {\n",
       "        vertical-align: middle;\n",
       "    }\n",
       "\n",
       "    .dataframe tbody tr th {\n",
       "        vertical-align: top;\n",
       "    }\n",
       "\n",
       "    .dataframe thead th {\n",
       "        text-align: right;\n",
       "    }\n",
       "</style>\n",
       "<table border=\"1\" class=\"dataframe\">\n",
       "  <thead>\n",
       "    <tr style=\"text-align: right;\">\n",
       "      <th></th>\n",
       "      <th>Age</th>\n",
       "      <th>Previous App Purchases</th>\n",
       "      <th>Price</th>\n",
       "      <th>Cluster</th>\n",
       "    </tr>\n",
       "  </thead>\n",
       "  <tbody>\n",
       "    <tr>\n",
       "      <th>0</th>\n",
       "      <td>37</td>\n",
       "      <td>218</td>\n",
       "      <td>6.0</td>\n",
       "      <td>0</td>\n",
       "    </tr>\n",
       "    <tr>\n",
       "      <th>1</th>\n",
       "      <td>34</td>\n",
       "      <td>247</td>\n",
       "      <td>6.0</td>\n",
       "      <td>0</td>\n",
       "    </tr>\n",
       "    <tr>\n",
       "      <th>2</th>\n",
       "      <td>19</td>\n",
       "      <td>15</td>\n",
       "      <td>4.0</td>\n",
       "      <td>1</td>\n",
       "    </tr>\n",
       "    <tr>\n",
       "      <th>3</th>\n",
       "      <td>32</td>\n",
       "      <td>235</td>\n",
       "      <td>7.0</td>\n",
       "      <td>0</td>\n",
       "    </tr>\n",
       "    <tr>\n",
       "      <th>4</th>\n",
       "      <td>19</td>\n",
       "      <td>15</td>\n",
       "      <td>2.5</td>\n",
       "      <td>1</td>\n",
       "    </tr>\n",
       "    <tr>\n",
       "      <th>...</th>\n",
       "      <td>...</td>\n",
       "      <td>...</td>\n",
       "      <td>...</td>\n",
       "      <td>...</td>\n",
       "    </tr>\n",
       "    <tr>\n",
       "      <th>9995</th>\n",
       "      <td>31</td>\n",
       "      <td>241</td>\n",
       "      <td>0.0</td>\n",
       "      <td>0</td>\n",
       "    </tr>\n",
       "    <tr>\n",
       "      <th>9996</th>\n",
       "      <td>25</td>\n",
       "      <td>265</td>\n",
       "      <td>0.0</td>\n",
       "      <td>0</td>\n",
       "    </tr>\n",
       "    <tr>\n",
       "      <th>9997</th>\n",
       "      <td>25</td>\n",
       "      <td>259</td>\n",
       "      <td>0.0</td>\n",
       "      <td>0</td>\n",
       "    </tr>\n",
       "    <tr>\n",
       "      <th>9998</th>\n",
       "      <td>68</td>\n",
       "      <td>115</td>\n",
       "      <td>0.0</td>\n",
       "      <td>2</td>\n",
       "    </tr>\n",
       "    <tr>\n",
       "      <th>9999</th>\n",
       "      <td>60</td>\n",
       "      <td>125</td>\n",
       "      <td>12.0</td>\n",
       "      <td>2</td>\n",
       "    </tr>\n",
       "  </tbody>\n",
       "</table>\n",
       "<p>10000 rows × 4 columns</p>\n",
       "</div>"
      ],
      "text/plain": [
       "      Age  Previous App Purchases  Price  Cluster\n",
       "0      37                     218    6.0        0\n",
       "1      34                     247    6.0        0\n",
       "2      19                      15    4.0        1\n",
       "3      32                     235    7.0        0\n",
       "4      19                      15    2.5        1\n",
       "...   ...                     ...    ...      ...\n",
       "9995   31                     241    0.0        0\n",
       "9996   25                     265    0.0        0\n",
       "9997   25                     259    0.0        0\n",
       "9998   68                     115    0.0        2\n",
       "9999   60                     125   12.0        2\n",
       "\n",
       "[10000 rows x 4 columns]"
      ]
     },
     "execution_count": 17,
     "metadata": {},
     "output_type": "execute_result"
    }
   ],
   "source": [
    "cluster_df"
   ]
  },
  {
   "cell_type": "markdown",
   "id": "07cc5319",
   "metadata": {},
   "source": [
    "# Part II"
   ]
  },
  {
   "cell_type": "code",
   "execution_count": 103,
   "id": "ed9eabfb",
   "metadata": {},
   "outputs": [
    {
     "data": {
      "text/plain": [
       "20000.0"
      ]
     },
     "execution_count": 103,
     "metadata": {},
     "output_type": "execute_result"
    }
   ],
   "source": [
    "num_participant = num_people * 0.1*0.1\n",
    "num_participant"
   ]
  },
  {
   "cell_type": "code",
   "execution_count": 104,
   "id": "3ee9e816",
   "metadata": {},
   "outputs": [
    {
     "data": {
      "text/html": [
       "<div>\n",
       "<style scoped>\n",
       "    .dataframe tbody tr th:only-of-type {\n",
       "        vertical-align: middle;\n",
       "    }\n",
       "\n",
       "    .dataframe tbody tr th {\n",
       "        vertical-align: top;\n",
       "    }\n",
       "\n",
       "    .dataframe thead th {\n",
       "        text-align: right;\n",
       "    }\n",
       "</style>\n",
       "<table border=\"1\" class=\"dataframe\">\n",
       "  <thead>\n",
       "    <tr style=\"text-align: right;\">\n",
       "      <th></th>\n",
       "      <th>Age</th>\n",
       "      <th>Previous App Purchases</th>\n",
       "      <th>Price</th>\n",
       "    </tr>\n",
       "  </thead>\n",
       "  <tbody>\n",
       "    <tr>\n",
       "      <th>0</th>\n",
       "      <td>37</td>\n",
       "      <td>218</td>\n",
       "      <td>6.0</td>\n",
       "    </tr>\n",
       "    <tr>\n",
       "      <th>1</th>\n",
       "      <td>34</td>\n",
       "      <td>247</td>\n",
       "      <td>6.0</td>\n",
       "    </tr>\n",
       "    <tr>\n",
       "      <th>2</th>\n",
       "      <td>19</td>\n",
       "      <td>15</td>\n",
       "      <td>4.0</td>\n",
       "    </tr>\n",
       "    <tr>\n",
       "      <th>3</th>\n",
       "      <td>32</td>\n",
       "      <td>235</td>\n",
       "      <td>7.0</td>\n",
       "    </tr>\n",
       "    <tr>\n",
       "      <th>4</th>\n",
       "      <td>19</td>\n",
       "      <td>15</td>\n",
       "      <td>2.5</td>\n",
       "    </tr>\n",
       "    <tr>\n",
       "      <th>...</th>\n",
       "      <td>...</td>\n",
       "      <td>...</td>\n",
       "      <td>...</td>\n",
       "    </tr>\n",
       "    <tr>\n",
       "      <th>19995</th>\n",
       "      <td>31</td>\n",
       "      <td>241</td>\n",
       "      <td>0.0</td>\n",
       "    </tr>\n",
       "    <tr>\n",
       "      <th>19996</th>\n",
       "      <td>25</td>\n",
       "      <td>265</td>\n",
       "      <td>0.0</td>\n",
       "    </tr>\n",
       "    <tr>\n",
       "      <th>19997</th>\n",
       "      <td>25</td>\n",
       "      <td>259</td>\n",
       "      <td>0.0</td>\n",
       "    </tr>\n",
       "    <tr>\n",
       "      <th>19998</th>\n",
       "      <td>68</td>\n",
       "      <td>115</td>\n",
       "      <td>0.0</td>\n",
       "    </tr>\n",
       "    <tr>\n",
       "      <th>19999</th>\n",
       "      <td>60</td>\n",
       "      <td>125</td>\n",
       "      <td>12.0</td>\n",
       "    </tr>\n",
       "  </tbody>\n",
       "</table>\n",
       "<p>20000 rows × 3 columns</p>\n",
       "</div>"
      ],
      "text/plain": [
       "       Age  Previous App Purchases  Price\n",
       "0       37                     218    6.0\n",
       "1       34                     247    6.0\n",
       "2       19                      15    4.0\n",
       "3       32                     235    7.0\n",
       "4       19                      15    2.5\n",
       "...    ...                     ...    ...\n",
       "19995   31                     241    0.0\n",
       "19996   25                     265    0.0\n",
       "19997   25                     259    0.0\n",
       "19998   68                     115    0.0\n",
       "19999   60                     125   12.0\n",
       "\n",
       "[20000 rows x 3 columns]"
      ]
     },
     "execution_count": 104,
     "metadata": {},
     "output_type": "execute_result"
    }
   ],
   "source": [
    "dfs = []\n",
    "for _ in range(int(num_participant/sample_size)):\n",
    "    dfs.append(cluster_df.copy())\n",
    "customer_df = pd.concat(dfs, ignore_index=True)\n",
    "del dfs\n",
    "customer_df"
   ]
  },
  {
   "cell_type": "code",
   "execution_count": 105,
   "id": "bf667fad",
   "metadata": {},
   "outputs": [],
   "source": [
    "customers = customer_df.index.to_list()"
   ]
  },
  {
   "cell_type": "markdown",
   "id": "bb9adadf",
   "metadata": {},
   "source": [
    "## Model with a preset base price"
   ]
  },
  {
   "cell_type": "code",
   "execution_count": 106,
   "id": "7820bfce",
   "metadata": {},
   "outputs": [],
   "source": [
    "base_rate = 6\n",
    "M = 99999999"
   ]
  },
  {
   "cell_type": "code",
   "execution_count": 20,
   "id": "39301f59",
   "metadata": {},
   "outputs": [
    {
     "data": {
      "text/plain": [
       "[0, 1, 2]"
      ]
     },
     "execution_count": 20,
     "metadata": {},
     "output_type": "execute_result"
    }
   ],
   "source": [
    "clusters_list = cluster_df['Cluster'].unique().tolist()\n",
    "clusters_list"
   ]
  },
  {
   "cell_type": "code",
   "execution_count": 107,
   "id": "bd8703d5",
   "metadata": {
    "collapsed": true
   },
   "outputs": [
    {
     "data": {
      "text/plain": [
       "[0,\n",
       " 0.05,\n",
       " 0.1,\n",
       " 0.15000000000000002,\n",
       " 0.2,\n",
       " 0.25,\n",
       " 0.3,\n",
       " 0.35,\n",
       " 0.39999999999999997,\n",
       " 0.44999999999999996,\n",
       " 0.49999999999999994,\n",
       " 0.5499999999999999,\n",
       " 0.6,\n",
       " 0.65,\n",
       " 0.7000000000000001,\n",
       " 0.7500000000000001,\n",
       " 0.8000000000000002,\n",
       " 0.8500000000000002,\n",
       " 0.9000000000000002,\n",
       " 0.9500000000000003]"
      ]
     },
     "execution_count": 107,
     "metadata": {},
     "output_type": "execute_result"
    }
   ],
   "source": [
    "discounts = []\n",
    "i = 0\n",
    "\n",
    "while i <= 1:\n",
    "    discounts.append(i)\n",
    "    i += 0.05\n",
    "    \n",
    "discounts"
   ]
  },
  {
   "cell_type": "code",
   "execution_count": 108,
   "id": "11a5e174",
   "metadata": {},
   "outputs": [],
   "source": [
    "days = [1, 2]"
   ]
  },
  {
   "cell_type": "code",
   "execution_count": 109,
   "id": "cbec8549",
   "metadata": {},
   "outputs": [],
   "source": [
    "model = LpProblem(name = 'Test_Model', sense = LpMaximize)\n",
    "\n",
    "zVar = LpVariable.dict('z', (customers), lowBound = 0.0, upBound=1.0, cat = LpContinuous)\n",
    "yVar = LpVariable.dict('y', (customers), cat = \"Integer\")\n",
    "pVar = LpVariable.dict('p', (customers), lowBound = 0.0, cat = LpContinuous)\n",
    "wVar = LpVariable.dict('w', (customers), cat = LpBinary)\n",
    "# xVar = LpVariable.dict('x', (customers), cat = LpBinary)\n",
    "aVar = LpVariable.dict(\"a\", (customers, range(len(discounts))), cat=\"Binary\")\n",
    "bVar = LpVariable.dict(\"b\", (customers), cat=\"Binary\")\n",
    "cVar = LpVariable.dict('c', (customers), lowBound = 0, cat = \"Integer\")"
   ]
  },
  {
   "cell_type": "code",
   "execution_count": 110,
   "id": "8ec10ed0",
   "metadata": {},
   "outputs": [],
   "source": [
    "obj = lpSum([pVar[i] for i in customers])\n",
    "                        \n",
    "model += obj"
   ]
  },
  {
   "cell_type": "code",
   "execution_count": 111,
   "id": "f4498b10",
   "metadata": {},
   "outputs": [],
   "source": [
    "for i in customers:\n",
    "    model += pVar[i] <= M * bVar[(i)]\n",
    "    model += pVar[i] <= base_rate*(1-zVar[(i)]) + M * (1 - bVar[(i)])\n",
    "    model += pVar[i] >= base_rate*(1-zVar[(i)]) - M * (1 - bVar[(i)])"
   ]
  },
  {
   "cell_type": "code",
   "execution_count": 112,
   "id": "dd064503",
   "metadata": {},
   "outputs": [],
   "source": [
    "# # Discount rates must be divisble by 5. Discount rates must be smaller than 100% and larger or equal to 0%.\n",
    "# for i in customers:\n",
    "#     for t in days:\n",
    "#         model += zVar[(i,t)] >= 0\n",
    "#         model += zVar[(i,t)] <= 1\n",
    "#         model += zVar[(i,t)]*100 == yVar[(i,t)] * 5"
   ]
  },
  {
   "cell_type": "code",
   "execution_count": 113,
   "id": "66fd25b5",
   "metadata": {},
   "outputs": [],
   "source": [
    "# Discount rates must be divisble by 5. Discount rates must be smaller than 100% and larger or equal to 0%.\n",
    "for i in customers:\n",
    "        model += zVar[(i)] == lpSum([aVar[(i, j)] * discounts[j] for j in range(len(discounts))])\n",
    "        model += pulp.lpSum([aVar[(i, j)] for j in range(len(discounts))]) == 1"
   ]
  },
  {
   "cell_type": "code",
   "execution_count": 114,
   "id": "bc4417ca",
   "metadata": {},
   "outputs": [],
   "source": [
    "# # If the WTP is larger than the base_rate and the discount of the day is not 0, the counter for that day will increase by 1\n",
    "# for i in customers:\n",
    "#     model += pVar[i] - base_rate * (1 - zVar[(i,1)]) <= M * wVar[(i,1)]\n",
    "#     model += pVar[i] - base_rate * (1 - zVar[(i,1)]) >= -M * (1 - wVar[(i,1)])\n",
    "#     model += -zVar[(i,1)] <= M * wVar[(i,1)]\n",
    "#     model += -zVar[(i,1)] <= -M * (1 - wVar[(i,1)])"
   ]
  },
  {
   "cell_type": "code",
   "execution_count": 115,
   "id": "5eeaf229",
   "metadata": {},
   "outputs": [],
   "source": [
    "# for i in customers:\n",
    "#     model += pVar[i] - base_rate * (1 - zVar[(i,2)]) <= M * wVar[(i,2)]\n",
    "#     model += pVar[i] - base_rate * (1 - zVar[(i,2)]) >= -M * (1 - wVar[(i,2)])\n",
    "#     model += -zVar[(i,2)] <= M * wVar[(i,2)]\n",
    "#     model += -zVar[(i,2)] <= -M * (1 - wVar[(i,2)])"
   ]
  },
  {
   "cell_type": "code",
   "execution_count": 116,
   "id": "7d5435ec",
   "metadata": {},
   "outputs": [],
   "source": [
    "# for i in customers:\n",
    "#     model += pVar[i] - base_rate * (1 - zVar[(i,1)]) - M * (1 - bVar[(i,1)]) >= 0\n",
    "#     model += pVar[i] - base_rate * (1 - zVar[(i,1)]) - M * bVar[(i,1)] <= -0.005\n",
    "#     model += zVar[(i,1)] - M * (1 - cVar[(i,1)]) >= 0\n",
    "#     model += zVar[(i,1)] - M * cVar[(i,1)] <= -0.005\n",
    "#     model += bVar[(i,1)] + cVar[(i,1)] -1.5 - M * (1 - wVar[(i,1)]) >= 0\n",
    "#     model += bVar[(i,1)] + cVar[(i,1)] -1.5 - M * wVar[(i,1)] <= -0.005"
   ]
  },
  {
   "cell_type": "code",
   "execution_count": 117,
   "id": "290069ca",
   "metadata": {},
   "outputs": [],
   "source": [
    "# If the WTP is larger than the base_rate and the discount of the day is not 0, the counter for that day will increase by 1\n",
    "for i in customers:\n",
    "    model += customer_df.loc[i,'Price'] - base_rate * (1 - zVar[(i)]) <= M * bVar[(i)]\n",
    "    model += customer_df.loc[i,'Price'] - base_rate * (1 - zVar[(i)]) >= -M * (1 - bVar[(i)])+0.0005\n",
    "    model += zVar[(i)] <= M * cVar[(i)]\n",
    "    model += zVar[(i)] >= -M * (1 - cVar[(i)])+0.0005\n",
    "    model += bVar[(i)] + cVar[(i)] -1.5  <= M * wVar[(i)]\n",
    "    model += bVar[(i)] + cVar[(i)] -1.5  >= -M * (1 - wVar[(i)])+0.0005"
   ]
  },
  {
   "cell_type": "code",
   "execution_count": 118,
   "id": "98ed09c6",
   "metadata": {},
   "outputs": [],
   "source": [
    "model += lpSum([wVar[(i)] for i in customers]) <= 20000"
   ]
  },
  {
   "cell_type": "code",
   "execution_count": null,
   "id": "63c6ec82",
   "metadata": {},
   "outputs": [],
   "source": [
    "model.solve()\n",
    "print(\"Status:\", LpStatus[model.status])"
   ]
  },
  {
   "cell_type": "code",
   "execution_count": null,
   "id": "1cedd40f",
   "metadata": {},
   "outputs": [],
   "source": [
    "total_rev = pulp.value(model.objective)\n",
    "print(\"Total Revenue: \" , total_rev)"
   ]
  },
  {
   "cell_type": "code",
   "execution_count": 52,
   "id": "38e06884",
   "metadata": {},
   "outputs": [
    {
     "data": {
      "text/plain": [
       "25392"
      ]
     },
     "execution_count": 52,
     "metadata": {},
     "output_type": "execute_result"
    }
   ],
   "source": [
    "temp = 0\n",
    "\n",
    "for i in customers:\n",
    "    if customer_df.loc[i,'Price'] >= base_rate:\n",
    "        temp += base_rate\n",
    "temp"
   ]
  },
  {
   "cell_type": "code",
   "execution_count": 55,
   "id": "7ba4bfc6",
   "metadata": {},
   "outputs": [
    {
     "data": {
      "text/html": [
       "<div>\n",
       "<style scoped>\n",
       "    .dataframe tbody tr th:only-of-type {\n",
       "        vertical-align: middle;\n",
       "    }\n",
       "\n",
       "    .dataframe tbody tr th {\n",
       "        vertical-align: top;\n",
       "    }\n",
       "\n",
       "    .dataframe thead th {\n",
       "        text-align: right;\n",
       "    }\n",
       "</style>\n",
       "<table border=\"1\" class=\"dataframe\">\n",
       "  <thead>\n",
       "    <tr style=\"text-align: right;\">\n",
       "      <th></th>\n",
       "      <th>Age</th>\n",
       "      <th>Previous App Purchases</th>\n",
       "      <th>Price</th>\n",
       "      <th>discount</th>\n",
       "      <th>discounted_price</th>\n",
       "      <th>offer</th>\n",
       "      <th>deal</th>\n",
       "      <th>revenue</th>\n",
       "    </tr>\n",
       "  </thead>\n",
       "  <tbody>\n",
       "    <tr>\n",
       "      <th>0</th>\n",
       "      <td>37</td>\n",
       "      <td>218</td>\n",
       "      <td>6.0</td>\n",
       "      <td>0.05</td>\n",
       "      <td>5.7</td>\n",
       "      <td>1.0</td>\n",
       "      <td>1.0</td>\n",
       "      <td>5.7</td>\n",
       "    </tr>\n",
       "    <tr>\n",
       "      <th>1</th>\n",
       "      <td>34</td>\n",
       "      <td>247</td>\n",
       "      <td>6.0</td>\n",
       "      <td>0.05</td>\n",
       "      <td>5.7</td>\n",
       "      <td>1.0</td>\n",
       "      <td>1.0</td>\n",
       "      <td>5.7</td>\n",
       "    </tr>\n",
       "    <tr>\n",
       "      <th>2</th>\n",
       "      <td>19</td>\n",
       "      <td>15</td>\n",
       "      <td>4.0</td>\n",
       "      <td>0.05</td>\n",
       "      <td>5.7</td>\n",
       "      <td>1.0</td>\n",
       "      <td>0.0</td>\n",
       "      <td>0.0</td>\n",
       "    </tr>\n",
       "    <tr>\n",
       "      <th>3</th>\n",
       "      <td>32</td>\n",
       "      <td>235</td>\n",
       "      <td>7.0</td>\n",
       "      <td>0.05</td>\n",
       "      <td>5.7</td>\n",
       "      <td>1.0</td>\n",
       "      <td>1.0</td>\n",
       "      <td>5.7</td>\n",
       "    </tr>\n",
       "    <tr>\n",
       "      <th>4</th>\n",
       "      <td>19</td>\n",
       "      <td>15</td>\n",
       "      <td>2.5</td>\n",
       "      <td>0.05</td>\n",
       "      <td>5.7</td>\n",
       "      <td>1.0</td>\n",
       "      <td>0.0</td>\n",
       "      <td>0.0</td>\n",
       "    </tr>\n",
       "    <tr>\n",
       "      <th>...</th>\n",
       "      <td>...</td>\n",
       "      <td>...</td>\n",
       "      <td>...</td>\n",
       "      <td>...</td>\n",
       "      <td>...</td>\n",
       "      <td>...</td>\n",
       "      <td>...</td>\n",
       "      <td>...</td>\n",
       "    </tr>\n",
       "    <tr>\n",
       "      <th>19995</th>\n",
       "      <td>31</td>\n",
       "      <td>241</td>\n",
       "      <td>0.0</td>\n",
       "      <td>0.05</td>\n",
       "      <td>5.7</td>\n",
       "      <td>1.0</td>\n",
       "      <td>0.0</td>\n",
       "      <td>0.0</td>\n",
       "    </tr>\n",
       "    <tr>\n",
       "      <th>19996</th>\n",
       "      <td>25</td>\n",
       "      <td>265</td>\n",
       "      <td>0.0</td>\n",
       "      <td>0.05</td>\n",
       "      <td>5.7</td>\n",
       "      <td>1.0</td>\n",
       "      <td>0.0</td>\n",
       "      <td>0.0</td>\n",
       "    </tr>\n",
       "    <tr>\n",
       "      <th>19997</th>\n",
       "      <td>25</td>\n",
       "      <td>259</td>\n",
       "      <td>0.0</td>\n",
       "      <td>0.05</td>\n",
       "      <td>5.7</td>\n",
       "      <td>1.0</td>\n",
       "      <td>0.0</td>\n",
       "      <td>0.0</td>\n",
       "    </tr>\n",
       "    <tr>\n",
       "      <th>19998</th>\n",
       "      <td>68</td>\n",
       "      <td>115</td>\n",
       "      <td>0.0</td>\n",
       "      <td>0.05</td>\n",
       "      <td>5.7</td>\n",
       "      <td>1.0</td>\n",
       "      <td>0.0</td>\n",
       "      <td>0.0</td>\n",
       "    </tr>\n",
       "    <tr>\n",
       "      <th>19999</th>\n",
       "      <td>60</td>\n",
       "      <td>125</td>\n",
       "      <td>12.0</td>\n",
       "      <td>0.05</td>\n",
       "      <td>5.7</td>\n",
       "      <td>1.0</td>\n",
       "      <td>1.0</td>\n",
       "      <td>5.7</td>\n",
       "    </tr>\n",
       "  </tbody>\n",
       "</table>\n",
       "<p>20000 rows × 8 columns</p>\n",
       "</div>"
      ],
      "text/plain": [
       "       Age  Previous App Purchases  Price  discount  discounted_price  offer  \\\n",
       "0       37                     218    6.0      0.05               5.7    1.0   \n",
       "1       34                     247    6.0      0.05               5.7    1.0   \n",
       "2       19                      15    4.0      0.05               5.7    1.0   \n",
       "3       32                     235    7.0      0.05               5.7    1.0   \n",
       "4       19                      15    2.5      0.05               5.7    1.0   \n",
       "...    ...                     ...    ...       ...               ...    ...   \n",
       "19995   31                     241    0.0      0.05               5.7    1.0   \n",
       "19996   25                     265    0.0      0.05               5.7    1.0   \n",
       "19997   25                     259    0.0      0.05               5.7    1.0   \n",
       "19998   68                     115    0.0      0.05               5.7    1.0   \n",
       "19999   60                     125   12.0      0.05               5.7    1.0   \n",
       "\n",
       "       deal  revenue  \n",
       "0       1.0      5.7  \n",
       "1       1.0      5.7  \n",
       "2       0.0      0.0  \n",
       "3       1.0      5.7  \n",
       "4       0.0      0.0  \n",
       "...     ...      ...  \n",
       "19995   0.0      0.0  \n",
       "19996   0.0      0.0  \n",
       "19997   0.0      0.0  \n",
       "19998   0.0      0.0  \n",
       "19999   1.0      5.7  \n",
       "\n",
       "[20000 rows x 8 columns]"
      ]
     },
     "execution_count": 55,
     "metadata": {},
     "output_type": "execute_result"
    }
   ],
   "source": [
    "temp = customer_df.copy()\n",
    "\n",
    "for i in customers:\n",
    "    temp.loc[i, \"discount\"] = zVar[(i)].varValue\n",
    "    temp.loc[i, \"discounted_price\"] = base_rate * (1 - zVar[(i)].varValue)\n",
    "    if zVar[(i)].varValue > 0:\n",
    "        temp.loc[i, \"offer\"] = 1\n",
    "    elif zVar[(i)].varValue == 0.0:\n",
    "        temp.loc[i, \"offer\"] = 0\n",
    "    if bVar[(i)].varValue == 1:\n",
    "        temp.loc[i, \"deal\"] = 1\n",
    "    else:\n",
    "        temp.loc[i, \"deal\"] = 0\n",
    "    temp.loc[i, \"revenue\"] = pVar[(i)].varValue\n",
    "temp"
   ]
  },
  {
   "cell_type": "code",
   "execution_count": 51,
   "id": "b197fa57",
   "metadata": {},
   "outputs": [
    {
     "data": {
      "text/plain": [
       "6"
      ]
     },
     "execution_count": 51,
     "metadata": {},
     "output_type": "execute_result"
    }
   ],
   "source": [
    "base_rate"
   ]
  },
  {
   "cell_type": "code",
   "execution_count": 58,
   "id": "f37fb91c",
   "metadata": {},
   "outputs": [
    {
     "data": {
      "text/html": [
       "<div>\n",
       "<style scoped>\n",
       "    .dataframe tbody tr th:only-of-type {\n",
       "        vertical-align: middle;\n",
       "    }\n",
       "\n",
       "    .dataframe tbody tr th {\n",
       "        vertical-align: top;\n",
       "    }\n",
       "\n",
       "    .dataframe thead th {\n",
       "        text-align: right;\n",
       "    }\n",
       "</style>\n",
       "<table border=\"1\" class=\"dataframe\">\n",
       "  <thead>\n",
       "    <tr style=\"text-align: right;\">\n",
       "      <th></th>\n",
       "      <th>Age</th>\n",
       "      <th>Previous App Purchases</th>\n",
       "      <th>Price</th>\n",
       "      <th>discount</th>\n",
       "      <th>discounted_price</th>\n",
       "      <th>offer</th>\n",
       "      <th>deal</th>\n",
       "      <th>revenue</th>\n",
       "    </tr>\n",
       "  </thead>\n",
       "  <tbody>\n",
       "    <tr>\n",
       "      <th>3292</th>\n",
       "      <td>40</td>\n",
       "      <td>246</td>\n",
       "      <td>0.0</td>\n",
       "      <td>0.05</td>\n",
       "      <td>5.7</td>\n",
       "      <td>1.0</td>\n",
       "      <td>0.0</td>\n",
       "      <td>0.0</td>\n",
       "    </tr>\n",
       "    <tr>\n",
       "      <th>7847</th>\n",
       "      <td>17</td>\n",
       "      <td>11</td>\n",
       "      <td>2.0</td>\n",
       "      <td>0.05</td>\n",
       "      <td>5.7</td>\n",
       "      <td>1.0</td>\n",
       "      <td>0.0</td>\n",
       "      <td>0.0</td>\n",
       "    </tr>\n",
       "    <tr>\n",
       "      <th>9286</th>\n",
       "      <td>23</td>\n",
       "      <td>230</td>\n",
       "      <td>0.0</td>\n",
       "      <td>0.05</td>\n",
       "      <td>5.7</td>\n",
       "      <td>1.0</td>\n",
       "      <td>0.0</td>\n",
       "      <td>0.0</td>\n",
       "    </tr>\n",
       "    <tr>\n",
       "      <th>721</th>\n",
       "      <td>31</td>\n",
       "      <td>260</td>\n",
       "      <td>0.0</td>\n",
       "      <td>0.05</td>\n",
       "      <td>5.7</td>\n",
       "      <td>1.0</td>\n",
       "      <td>0.0</td>\n",
       "      <td>0.0</td>\n",
       "    </tr>\n",
       "    <tr>\n",
       "      <th>4282</th>\n",
       "      <td>37</td>\n",
       "      <td>236</td>\n",
       "      <td>0.0</td>\n",
       "      <td>0.05</td>\n",
       "      <td>5.7</td>\n",
       "      <td>1.0</td>\n",
       "      <td>0.0</td>\n",
       "      <td>0.0</td>\n",
       "    </tr>\n",
       "    <tr>\n",
       "      <th>4683</th>\n",
       "      <td>61</td>\n",
       "      <td>118</td>\n",
       "      <td>0.0</td>\n",
       "      <td>0.05</td>\n",
       "      <td>5.7</td>\n",
       "      <td>1.0</td>\n",
       "      <td>0.0</td>\n",
       "      <td>0.0</td>\n",
       "    </tr>\n",
       "    <tr>\n",
       "      <th>5549</th>\n",
       "      <td>33</td>\n",
       "      <td>297</td>\n",
       "      <td>0.0</td>\n",
       "      <td>0.05</td>\n",
       "      <td>5.7</td>\n",
       "      <td>1.0</td>\n",
       "      <td>0.0</td>\n",
       "      <td>0.0</td>\n",
       "    </tr>\n",
       "    <tr>\n",
       "      <th>3986</th>\n",
       "      <td>35</td>\n",
       "      <td>253</td>\n",
       "      <td>7.0</td>\n",
       "      <td>0.05</td>\n",
       "      <td>5.7</td>\n",
       "      <td>1.0</td>\n",
       "      <td>1.0</td>\n",
       "      <td>5.7</td>\n",
       "    </tr>\n",
       "    <tr>\n",
       "      <th>8916</th>\n",
       "      <td>30</td>\n",
       "      <td>249</td>\n",
       "      <td>7.0</td>\n",
       "      <td>0.05</td>\n",
       "      <td>5.7</td>\n",
       "      <td>1.0</td>\n",
       "      <td>1.0</td>\n",
       "      <td>5.7</td>\n",
       "    </tr>\n",
       "    <tr>\n",
       "      <th>8894</th>\n",
       "      <td>31</td>\n",
       "      <td>244</td>\n",
       "      <td>6.0</td>\n",
       "      <td>0.05</td>\n",
       "      <td>5.7</td>\n",
       "      <td>1.0</td>\n",
       "      <td>1.0</td>\n",
       "      <td>5.7</td>\n",
       "    </tr>\n",
       "    <tr>\n",
       "      <th>1653</th>\n",
       "      <td>28</td>\n",
       "      <td>262</td>\n",
       "      <td>5.0</td>\n",
       "      <td>0.05</td>\n",
       "      <td>5.7</td>\n",
       "      <td>1.0</td>\n",
       "      <td>0.0</td>\n",
       "      <td>0.0</td>\n",
       "    </tr>\n",
       "    <tr>\n",
       "      <th>11727</th>\n",
       "      <td>38</td>\n",
       "      <td>246</td>\n",
       "      <td>6.0</td>\n",
       "      <td>0.05</td>\n",
       "      <td>5.7</td>\n",
       "      <td>1.0</td>\n",
       "      <td>1.0</td>\n",
       "      <td>5.7</td>\n",
       "    </tr>\n",
       "    <tr>\n",
       "      <th>14403</th>\n",
       "      <td>71</td>\n",
       "      <td>119</td>\n",
       "      <td>12.0</td>\n",
       "      <td>0.05</td>\n",
       "      <td>5.7</td>\n",
       "      <td>1.0</td>\n",
       "      <td>1.0</td>\n",
       "      <td>5.7</td>\n",
       "    </tr>\n",
       "    <tr>\n",
       "      <th>19696</th>\n",
       "      <td>26</td>\n",
       "      <td>254</td>\n",
       "      <td>0.0</td>\n",
       "      <td>0.05</td>\n",
       "      <td>5.7</td>\n",
       "      <td>1.0</td>\n",
       "      <td>0.0</td>\n",
       "      <td>0.0</td>\n",
       "    </tr>\n",
       "    <tr>\n",
       "      <th>2035</th>\n",
       "      <td>30</td>\n",
       "      <td>208</td>\n",
       "      <td>0.0</td>\n",
       "      <td>0.05</td>\n",
       "      <td>5.7</td>\n",
       "      <td>1.0</td>\n",
       "      <td>0.0</td>\n",
       "      <td>0.0</td>\n",
       "    </tr>\n",
       "    <tr>\n",
       "      <th>18479</th>\n",
       "      <td>33</td>\n",
       "      <td>235</td>\n",
       "      <td>0.0</td>\n",
       "      <td>0.05</td>\n",
       "      <td>5.7</td>\n",
       "      <td>1.0</td>\n",
       "      <td>0.0</td>\n",
       "      <td>0.0</td>\n",
       "    </tr>\n",
       "    <tr>\n",
       "      <th>15911</th>\n",
       "      <td>31</td>\n",
       "      <td>229</td>\n",
       "      <td>6.0</td>\n",
       "      <td>0.05</td>\n",
       "      <td>5.7</td>\n",
       "      <td>1.0</td>\n",
       "      <td>1.0</td>\n",
       "      <td>5.7</td>\n",
       "    </tr>\n",
       "    <tr>\n",
       "      <th>9193</th>\n",
       "      <td>62</td>\n",
       "      <td>121</td>\n",
       "      <td>0.0</td>\n",
       "      <td>0.05</td>\n",
       "      <td>5.7</td>\n",
       "      <td>1.0</td>\n",
       "      <td>0.0</td>\n",
       "      <td>0.0</td>\n",
       "    </tr>\n",
       "    <tr>\n",
       "      <th>7262</th>\n",
       "      <td>37</td>\n",
       "      <td>285</td>\n",
       "      <td>0.0</td>\n",
       "      <td>0.05</td>\n",
       "      <td>5.7</td>\n",
       "      <td>1.0</td>\n",
       "      <td>0.0</td>\n",
       "      <td>0.0</td>\n",
       "    </tr>\n",
       "    <tr>\n",
       "      <th>17022</th>\n",
       "      <td>25</td>\n",
       "      <td>228</td>\n",
       "      <td>0.0</td>\n",
       "      <td>0.05</td>\n",
       "      <td>5.7</td>\n",
       "      <td>1.0</td>\n",
       "      <td>0.0</td>\n",
       "      <td>0.0</td>\n",
       "    </tr>\n",
       "  </tbody>\n",
       "</table>\n",
       "</div>"
      ],
      "text/plain": [
       "       Age  Previous App Purchases  Price  discount  discounted_price  offer  \\\n",
       "3292    40                     246    0.0      0.05               5.7    1.0   \n",
       "7847    17                      11    2.0      0.05               5.7    1.0   \n",
       "9286    23                     230    0.0      0.05               5.7    1.0   \n",
       "721     31                     260    0.0      0.05               5.7    1.0   \n",
       "4282    37                     236    0.0      0.05               5.7    1.0   \n",
       "4683    61                     118    0.0      0.05               5.7    1.0   \n",
       "5549    33                     297    0.0      0.05               5.7    1.0   \n",
       "3986    35                     253    7.0      0.05               5.7    1.0   \n",
       "8916    30                     249    7.0      0.05               5.7    1.0   \n",
       "8894    31                     244    6.0      0.05               5.7    1.0   \n",
       "1653    28                     262    5.0      0.05               5.7    1.0   \n",
       "11727   38                     246    6.0      0.05               5.7    1.0   \n",
       "14403   71                     119   12.0      0.05               5.7    1.0   \n",
       "19696   26                     254    0.0      0.05               5.7    1.0   \n",
       "2035    30                     208    0.0      0.05               5.7    1.0   \n",
       "18479   33                     235    0.0      0.05               5.7    1.0   \n",
       "15911   31                     229    6.0      0.05               5.7    1.0   \n",
       "9193    62                     121    0.0      0.05               5.7    1.0   \n",
       "7262    37                     285    0.0      0.05               5.7    1.0   \n",
       "17022   25                     228    0.0      0.05               5.7    1.0   \n",
       "\n",
       "       deal  revenue  \n",
       "3292    0.0      0.0  \n",
       "7847    0.0      0.0  \n",
       "9286    0.0      0.0  \n",
       "721     0.0      0.0  \n",
       "4282    0.0      0.0  \n",
       "4683    0.0      0.0  \n",
       "5549    0.0      0.0  \n",
       "3986    1.0      5.7  \n",
       "8916    1.0      5.7  \n",
       "8894    1.0      5.7  \n",
       "1653    0.0      0.0  \n",
       "11727   1.0      5.7  \n",
       "14403   1.0      5.7  \n",
       "19696   0.0      0.0  \n",
       "2035    0.0      0.0  \n",
       "18479   0.0      0.0  \n",
       "15911   1.0      5.7  \n",
       "9193    0.0      0.0  \n",
       "7262    0.0      0.0  \n",
       "17022   0.0      0.0  "
      ]
     },
     "execution_count": 58,
     "metadata": {},
     "output_type": "execute_result"
    }
   ],
   "source": [
    "temp.sample(20)"
   ]
  },
  {
   "cell_type": "code",
   "execution_count": 34,
   "id": "aafc7909",
   "metadata": {},
   "outputs": [],
   "source": [
    "# for i in customers:\n",
    "#     for t in days:\n",
    "#         customer_df.loc[i, f\"discount_day{t}\"] = zVar[(i,t)].varValue\n",
    "#         customer_df.loc[i, f\"discounted_price_day{t}\"] = base_rate * (1 - zVar[(i,t)].varValue)\n",
    "#         if zVar[(i,t)].varValue > 0:\n",
    "#             customer_df.loc[i, f\"offer_day{t}\"] = 1\n",
    "#         elif zVar[(i,t)].varValue == 0.0:\n",
    "#             customer_df.loc[i, f\"offer_day{t}\"] = 0\n",
    "#         if bVar[(i,t)].varValue == 1:\n",
    "#             customer_df.loc[i, f\"deal_day{t}\"] = 1\n",
    "#         else:\n",
    "#             customer_df.loc[i, f\"deal_day{t}\"] = 0"
   ]
  },
  {
   "cell_type": "code",
   "execution_count": 35,
   "id": "040496c1",
   "metadata": {},
   "outputs": [],
   "source": [
    "# customer_df.sample(20)"
   ]
  },
  {
   "cell_type": "code",
   "execution_count": 36,
   "id": "1703d062",
   "metadata": {},
   "outputs": [],
   "source": [
    "# Case Vars\n",
    "num_not_participated = 2000000 - num_participant"
   ]
  },
  {
   "cell_type": "code",
   "execution_count": 37,
   "id": "d96ba407",
   "metadata": {},
   "outputs": [],
   "source": [
    "# Cumulative demand and its associated revenue \n",
    "demand_q2_df = demand_df.copy()\n",
    "demand_q2_df['CumulativeDemand'] = num_not_participated * demand_q2_df['CumulativeSum']\n",
    "demand_q2_df['CumulativeRevenue'] = demand_q2_df['Price'] * demand_q2_df['CumulativeDemand']"
   ]
  },
  {
   "cell_type": "code",
   "execution_count": 38,
   "id": "48e86cc0",
   "metadata": {},
   "outputs": [],
   "source": [
    "best_rev = demand_q2_df[demand_q2_df['Price']==base_rate]['CumulativeRevenue'].iloc[0] + total_rev"
   ]
  },
  {
   "cell_type": "code",
   "execution_count": 39,
   "id": "55c93841",
   "metadata": {},
   "outputs": [],
   "source": [
    "def find_best_strategy(base_rate, discounts, days, num_not_participated):\n",
    "    \n",
    "    print('==================================')\n",
    "    print('Base Rate: ' + str(base_rate))\n",
    "    \n",
    "    model = LpProblem(name = 'Test_Model', sense = LpMaximize)\n",
    "\n",
    "    zVar = LpVariable.dict('z', (customers), lowBound = 0.0, upBound=1.0, cat = LpContinuous)\n",
    "    yVar = LpVariable.dict('y', (customers), cat = \"Integer\")\n",
    "    pVar = LpVariable.dict('p', (customers), lowBound = 0.0, cat = LpContinuous)\n",
    "    wVar = LpVariable.dict('w', (customers), cat = LpBinary)\n",
    "    # xVar = LpVariable.dict('x', (customers), cat = LpBinary)\n",
    "    aVar = LpVariable.dicts(\"a\", range(len(discounts)), cat=\"Binary\")\n",
    "    bVar = LpVariable.dict(\"b\", (customers), cat=\"Binary\")\n",
    "    cVar = LpVariable.dict('c', (customers), lowBound = 0, cat = \"Integer\")\n",
    "    \n",
    "    obj = lpSum([pVar[i] for i in customers])\n",
    "                        \n",
    "    model += obj\n",
    "    \n",
    "    for i in customers:\n",
    "        model += pVar[i] <= M * bVar[(i)]\n",
    "        model += pVar[i] <= base_rate*(1-zVar[(i)]) + M * (1 - bVar[(i)])\n",
    "        model += pVar[i] >= base_rate*(1-zVar[(i)]) - M * (1 - bVar[(i)])\n",
    "        \n",
    "    for i in customers:\n",
    "            model += zVar[(i)] == lpSum([aVar[i] * discounts[i] for i in range(len(discounts))])\n",
    "\n",
    "    model += pulp.lpSum(aVar.values()) == 1\n",
    "    \n",
    "    # If the WTP is larger than the base_rate and the discount of the day is not 0, the counter for that day will increase by 1\n",
    "    for i in customers:\n",
    "        model += customer_df.loc[i,'Price'] - base_rate * (1 - zVar[(i)]) <= M * bVar[(i)]\n",
    "        model += customer_df.loc[i,'Price'] - base_rate * (1 - zVar[(i)]) >= -M * (1 - bVar[(i)])+0.0005\n",
    "        model += zVar[(i)] <= M * cVar[(i)]\n",
    "        model += zVar[(i)] >= -M * (1 - cVar[(i)])+0.0005\n",
    "        model += bVar[(i)] + cVar[(i)] -1.5  <= M * wVar[(i)]\n",
    "        model += bVar[(i)] + cVar[(i)] -1.5  >= -M * (1 - wVar[(i)])+0.0005\n",
    "\n",
    "    model += lpSum([wVar[(i)] for i in customers]) <= 20000\n",
    "    model.solve()\n",
    "    print(\"Status:\", LpStatus[model.status])\n",
    "    total_rev = pulp.value(model.objective)\n",
    "    print(\"Event Revenue: \" , total_rev)\n",
    "    \n",
    "    demand_q2_df = demand_df.copy()\n",
    "    demand_q2_df['CumulativeDemand'] = num_not_participated * demand_q2_df['CumulativeSum']\n",
    "    demand_q2_df['CumulativeRevenue'] = demand_q2_df['Price'] * demand_q2_df['CumulativeDemand']\n",
    "    best_rev = demand_q2_df[demand_q2_df['Price']==base_rate]['CumulativeRevenue'].iloc[0] + total_rev\n",
    "    print(\"Total Revenue: \" , total_rev+best_rev)\n",
    "    \n",
    "    temp = customer_df.copy()\n",
    "    \n",
    "    for i in customers:\n",
    "        temp.loc[i, \"discount\"] = zVar[(i)].varValue\n",
    "        temp.loc[i, \"discounted_price\"] = base_rate * (1 - zVar[(i)].varValue)\n",
    "        if zVar[(i)].varValue > 0:\n",
    "            temp.loc[i, \"offer\"] = 1\n",
    "        elif zVar[(i)].varValue == 0.0:\n",
    "            temp.loc[i, \"offer\"] = 0\n",
    "        if bVar[(i)].varValue == 1:\n",
    "            temp.loc[i, \"deal\"] = 1\n",
    "        else:\n",
    "            temp.loc[i, \"deal\"] = 0\n",
    "    \n",
    "    return {\n",
    "        'total_rev': total_rev,\n",
    "        'best_rev': best_rev,\n",
    "        'final_rev': total_rev+best_rev,\n",
    "        'df': temp\n",
    "    }\n",
    "    "
   ]
  },
  {
   "cell_type": "code",
   "execution_count": 40,
   "id": "c7f2a766",
   "metadata": {},
   "outputs": [],
   "source": [
    "# Case Vars\n",
    "num_not_participated = 2000000 - num_participant"
   ]
  },
  {
   "cell_type": "code",
   "execution_count": 41,
   "id": "3dc37fa5",
   "metadata": {},
   "outputs": [
    {
     "data": {
      "text/plain": [
       "[0,\n",
       " 0.05,\n",
       " 0.1,\n",
       " 0.15000000000000002,\n",
       " 0.2,\n",
       " 0.25,\n",
       " 0.3,\n",
       " 0.35,\n",
       " 0.39999999999999997,\n",
       " 0.44999999999999996,\n",
       " 0.49999999999999994,\n",
       " 0.5499999999999999,\n",
       " 0.6,\n",
       " 0.65,\n",
       " 0.7000000000000001,\n",
       " 0.7500000000000001,\n",
       " 0.8000000000000002,\n",
       " 0.8500000000000002,\n",
       " 0.9000000000000002,\n",
       " 0.9500000000000003]"
      ]
     },
     "execution_count": 41,
     "metadata": {},
     "output_type": "execute_result"
    }
   ],
   "source": [
    "discounts = []\n",
    "i = 0\n",
    "\n",
    "while i <= 1:\n",
    "    discounts.append(i)\n",
    "    i += 0.05\n",
    "    \n",
    "discounts"
   ]
  },
  {
   "cell_type": "code",
   "execution_count": 42,
   "id": "b44e12c0",
   "metadata": {},
   "outputs": [
    {
     "ename": "TypeError",
     "evalue": "find_best_strategy() missing 1 required positional argument: 'num_not_participated'",
     "output_type": "error",
     "traceback": [
      "\u001b[1;31m---------------------------------------------------------------------------\u001b[0m",
      "\u001b[1;31mTypeError\u001b[0m                                 Traceback (most recent call last)",
      "Input \u001b[1;32mIn [42]\u001b[0m, in \u001b[0;36m<cell line: 5>\u001b[1;34m()\u001b[0m\n\u001b[0;32m      3\u001b[0m best_df \u001b[38;5;241m=\u001b[39m pd\u001b[38;5;241m.\u001b[39mDataFrame()\n\u001b[0;32m      5\u001b[0m \u001b[38;5;28;01mfor\u001b[39;00m base_rate \u001b[38;5;129;01min\u001b[39;00m price_list:\n\u001b[1;32m----> 6\u001b[0m     dict_ \u001b[38;5;241m=\u001b[39m \u001b[43mfind_best_strategy\u001b[49m\u001b[43m(\u001b[49m\u001b[43mbase_rate\u001b[49m\u001b[43m,\u001b[49m\u001b[43m \u001b[49m\u001b[43mdiscounts\u001b[49m\u001b[43m,\u001b[49m\u001b[43m \u001b[49m\u001b[43mnum_not_participated\u001b[49m\u001b[43m)\u001b[49m\n\u001b[0;32m      7\u001b[0m     \u001b[38;5;28;01mif\u001b[39;00m dict_[\u001b[38;5;124m'\u001b[39m\u001b[38;5;124mfinal_rev\u001b[39m\u001b[38;5;124m'\u001b[39m]\u001b[38;5;241m>\u001b[39mbest_record:\n\u001b[0;32m      8\u001b[0m         best_df \u001b[38;5;241m=\u001b[39m dict_\n",
      "\u001b[1;31mTypeError\u001b[0m: find_best_strategy() missing 1 required positional argument: 'num_not_participated'"
     ]
    }
   ],
   "source": [
    "price_list = demand_df['Price'].tolist()\n",
    "best_record = 0\n",
    "best_df = pd.DataFrame()\n",
    "\n",
    "for base_rate in price_list:\n",
    "    dict_ = find_best_strategy(base_rate, discounts, num_not_participated)\n",
    "    if dict_['final_rev']>best_record:\n",
    "        best_df = dict_\n",
    "        best_record = dict_['final_rev']"
   ]
  },
  {
   "cell_type": "code",
   "execution_count": null,
   "id": "6a3bd3f6",
   "metadata": {},
   "outputs": [],
   "source": []
  }
 ],
 "metadata": {
  "kernelspec": {
   "display_name": "Python 3 (ipykernel)",
   "language": "python",
   "name": "python3"
  },
  "language_info": {
   "codemirror_mode": {
    "name": "ipython",
    "version": 3
   },
   "file_extension": ".py",
   "mimetype": "text/x-python",
   "name": "python",
   "nbconvert_exporter": "python",
   "pygments_lexer": "ipython3",
   "version": "3.9.12"
  }
 },
 "nbformat": 4,
 "nbformat_minor": 5
}
